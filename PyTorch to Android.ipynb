{
 "cells": [
  {
   "cell_type": "markdown",
   "metadata": {},
   "source": [
    "# RoadAI - From PyTorch to Android\n",
    "\n",
    "This notebook converts the original trained PyTorch model to a .pt model compatible for Android Deployment."
   ]
  },
  {
   "cell_type": "code",
   "execution_count": 20,
   "metadata": {},
   "outputs": [],
   "source": [
    "import torch\n",
    "import numpy as np\n",
    "import torchvision\n",
    "from torchvision import datasets\n",
    "import torchvision.transforms as transforms\n",
    "from torch.utils.data.sampler import SubsetRandomSampler\n",
    "import matplotlib.pyplot as plt\n",
    "%matplotlib inline\n",
    "import torchvision.models as models\n",
    "from collections import OrderedDict\n",
    "from torch import nn\n",
    "from torch import optim\n",
    "\n",
    "#Load the pretrained vgg19 model\n",
    "model = models.vgg19(pretrained=True)\n",
    "\n",
    "# Freeze training for all \"features\" layers\n",
    "for param in model.features.parameters():\n",
    "    param.requires_grad = False\n",
    "    \n",
    "#Print the model's architecture\n",
    "#print (model)    \n",
    "\n",
    "#Change the classifier's layers - Define my own classifier\n",
    "classifier = nn.Sequential(OrderedDict([\n",
    "                          ('fc1', nn.Linear(25088, 100)),\n",
    "                          ('relu', nn.ReLU()),\n",
    "                          ('fc2', nn.Linear(100, 20)),\n",
    "                          ('relu', nn.ReLU()),\n",
    "                          ('fc3', nn.Linear(20, 2)),\n",
    "                          ('relu', nn.ReLU()), \n",
    "                          ('output', nn.LogSoftmax(dim=1))\n",
    "                          ]))\n",
    "\n",
    "#Change the classifier's layers - Change the classifier section in VGG19\n",
    "model.classifier = classifier"
   ]
  },
  {
   "cell_type": "code",
   "execution_count": 21,
   "metadata": {},
   "outputs": [],
   "source": [
    "import torch\n",
    "from torchvision.models import mobilenet_v2\n",
    "\n",
    "#model = mobilenet_v2(pretrained=True)\n",
    "device = torch.device('cpu')\n",
    "model.load_state_dict(torch.load('roadai_model_pyrtoch.pt', map_location=device))\n",
    "\n",
    "model.eval()\n",
    "input_tensor = torch.rand(1,3,224,224)\n",
    "\n",
    "script_model = torch.jit.trace(model,input_tensor)\n",
    "script_model.save(\"roadai_model_android.pt\")"
   ]
  }
 ],
 "metadata": {
  "kernelspec": {
   "display_name": "Python 2",
   "language": "python",
   "name": "python2"
  },
  "language_info": {
   "codemirror_mode": {
    "name": "ipython",
    "version": 2
   },
   "file_extension": ".py",
   "mimetype": "text/x-python",
   "name": "python",
   "nbconvert_exporter": "python",
   "pygments_lexer": "ipython2",
   "version": "2.7.15"
  }
 },
 "nbformat": 4,
 "nbformat_minor": 2
}
